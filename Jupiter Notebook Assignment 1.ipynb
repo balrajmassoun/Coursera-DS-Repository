{
 "cells": [
  {
   "cell_type": "markdown",
   "id": "1abf6d50",
   "metadata": {},
   "source": [
    "# My Jupyter Notebook on IBM Watson Studio"
   ]
  },
  {
   "cell_type": "markdown",
   "id": "83fbe4ec",
   "metadata": {},
   "source": [
    "__Balraj Massoun__\n",
    "Desired occupation : Data Scientist"
   ]
  },
  {
   "cell_type": "markdown",
   "id": "b98b11e6",
   "metadata": {},
   "source": [
    "_I am interested in Data Science as it is a new and upcoming field. I enjoy working with data and am interested to play in a key role of understanding data to make smart business predictions_"
   ]
  },
  {
   "cell_type": "markdown",
   "id": "fb2164f6",
   "metadata": {},
   "source": [
    "### In the next cell, the code will add 2 numbers and deduce wether the number is odd or even"
   ]
  },
  {
   "cell_type": "code",
   "execution_count": 1,
   "id": "6aaa7ef8",
   "metadata": {},
   "outputs": [
    {
     "name": "stdout",
     "output_type": "stream",
     "text": [
      "Enter number 1 : 4\n",
      "Enter number 2 : 5\n",
      "Number is odd\n"
     ]
    }
   ],
   "source": [
    "x = int(input(\"Enter number 1 : \"))\n",
    "y = int(input(\"Enter number 2 : \"))\n",
    "if((x+y)%2==0):\n",
    "    print(\"Number is even\")\n",
    "else:\n",
    "    print(\"Number is odd\")"
   ]
  },
  {
   "cell_type": "markdown",
   "id": "e94598e0",
   "metadata": {},
   "source": [
    "# Horizontal rule\n",
    "***\n",
    "# Bulleted list\n",
    "- bullet 1\n",
    "    - bullet 2\n",
    "      - bullet 3\n",
    "* bullet 4\n",
    "# Numbered list\n",
    "1. number 1\n",
    "1. number 2\n",
    "1. number 3"
   ]
  }
 ],
 "metadata": {
  "kernelspec": {
   "display_name": "Python 3 (ipykernel)",
   "language": "python",
   "name": "python3"
  },
  "language_info": {
   "codemirror_mode": {
    "name": "ipython",
    "version": 3
   },
   "file_extension": ".py",
   "mimetype": "text/x-python",
   "name": "python",
   "nbconvert_exporter": "python",
   "pygments_lexer": "ipython3",
   "version": "3.9.12"
  }
 },
 "nbformat": 4,
 "nbformat_minor": 5
}
